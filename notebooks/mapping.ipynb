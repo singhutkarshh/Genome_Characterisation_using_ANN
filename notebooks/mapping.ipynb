{
 "cells": [
  {
   "cell_type": "code",
   "execution_count": 9,
   "id": "80d2a328",
   "metadata": {},
   "outputs": [],
   "source": [
    "import pandas as pd\n",
    "import numpy as np\n",
    "from collections import  Counter"
   ]
  },
  {
   "cell_type": "code",
   "execution_count": 3,
   "id": "e4672b49",
   "metadata": {},
   "outputs": [
    {
     "data": {
      "text/html": [
       "<div>\n",
       "<style scoped>\n",
       "    .dataframe tbody tr th:only-of-type {\n",
       "        vertical-align: middle;\n",
       "    }\n",
       "\n",
       "    .dataframe tbody tr th {\n",
       "        vertical-align: top;\n",
       "    }\n",
       "\n",
       "    .dataframe thead th {\n",
       "        text-align: right;\n",
       "    }\n",
       "</style>\n",
       "<table border=\"1\" class=\"dataframe\">\n",
       "  <thead>\n",
       "    <tr style=\"text-align: right;\">\n",
       "      <th></th>\n",
       "      <th>Unnamed: 0</th>\n",
       "      <th>SARS-CoV-2</th>\n",
       "      <th>Sequence</th>\n",
       "    </tr>\n",
       "  </thead>\n",
       "  <tbody>\n",
       "    <tr>\n",
       "      <th>0</th>\n",
       "      <td>0</td>\n",
       "      <td>ON052760.1</td>\n",
       "      <td>TTATACCTTCCCAGGTAACAAACCAACCAACTTTCGATCTCTTGTA...</td>\n",
       "    </tr>\n",
       "    <tr>\n",
       "      <th>1</th>\n",
       "      <td>1</td>\n",
       "      <td>OM915404.1</td>\n",
       "      <td>ACCAACCAACTTTCGATCTCTTGTAGATCTGTTCTCTAAACGAACT...</td>\n",
       "    </tr>\n",
       "    <tr>\n",
       "      <th>2</th>\n",
       "      <td>2</td>\n",
       "      <td>OM900023.1</td>\n",
       "      <td>TTGTAGATCTGTTCTCTAAACGAACTTTAAAATCTGTGTGGCTGTC...</td>\n",
       "    </tr>\n",
       "    <tr>\n",
       "      <th>3</th>\n",
       "      <td>3</td>\n",
       "      <td>ON052762.1</td>\n",
       "      <td>TTTCGATCTCTTGTAGATCTGTTCTCTAAACGAACTTTAAAATCTG...</td>\n",
       "    </tr>\n",
       "    <tr>\n",
       "      <th>4</th>\n",
       "      <td>4</td>\n",
       "      <td>ON063242.1</td>\n",
       "      <td>TTTCGATCTCTTGTAGATCTGTTCTCTAAACGAACTTTAAAATCTG...</td>\n",
       "    </tr>\n",
       "  </tbody>\n",
       "</table>\n",
       "</div>"
      ],
      "text/plain": [
       "   Unnamed: 0  SARS-CoV-2                                           Sequence\n",
       "0           0  ON052760.1  TTATACCTTCCCAGGTAACAAACCAACCAACTTTCGATCTCTTGTA...\n",
       "1           1  OM915404.1  ACCAACCAACTTTCGATCTCTTGTAGATCTGTTCTCTAAACGAACT...\n",
       "2           2  OM900023.1  TTGTAGATCTGTTCTCTAAACGAACTTTAAAATCTGTGTGGCTGTC...\n",
       "3           3  ON052762.1  TTTCGATCTCTTGTAGATCTGTTCTCTAAACGAACTTTAAAATCTG...\n",
       "4           4  ON063242.1  TTTCGATCTCTTGTAGATCTGTTCTCTAAACGAACTTTAAAATCTG..."
      ]
     },
     "execution_count": 3,
     "metadata": {},
     "output_type": "execute_result"
    }
   ],
   "source": [
    "df = pd.read_csv('data.csv')\n",
    "df.head()"
   ]
  },
  {
   "cell_type": "code",
   "execution_count": 5,
   "id": "981ee92b",
   "metadata": {},
   "outputs": [
    {
     "data": {
      "text/plain": [
       "[29773,\n",
       " 29831,\n",
       " 29790,\n",
       " 29751,\n",
       " 29740,\n",
       " 29752,\n",
       " 29759,\n",
       " 29880,\n",
       " 29802,\n",
       " 29832,\n",
       " 29745,\n",
       " 29781,\n",
       " 29750,\n",
       " 29763,\n",
       " 29744,\n",
       " 29747,\n",
       " 29826,\n",
       " 29790,\n",
       " 29818,\n",
       " 29802,\n",
       " 29778,\n",
       " 29740,\n",
       " 29790,\n",
       " 29780,\n",
       " 29780,\n",
       " 29817,\n",
       " 29831,\n",
       " 29739,\n",
       " 29740,\n",
       " 29739,\n",
       " 29790,\n",
       " 29753,\n",
       " 29737,\n",
       " 29790,\n",
       " 29781,\n",
       " 29835,\n",
       " 29833,\n",
       " 29743,\n",
       " 29735,\n",
       " 29790,\n",
       " 29833,\n",
       " 29781,\n",
       " 29823,\n",
       " 29760,\n",
       " 29772,\n",
       " 29790,\n",
       " 29790,\n",
       " 29766,\n",
       " 29835,\n",
       " 29819,\n",
       " 29857,\n",
       " 29832,\n",
       " 29734,\n",
       " 29789,\n",
       " 29790]"
      ]
     },
     "execution_count": 5,
     "metadata": {},
     "output_type": "execute_result"
    }
   ],
   "source": [
    "lengths = [0]*len(df.index)\n",
    "for ind in df.index:\n",
    "    lengths[ind] = len(df['Sequence'][ind])\n",
    "lengths"
   ]
  },
  {
   "cell_type": "code",
   "execution_count": 10,
   "id": "11ca1484",
   "metadata": {},
   "outputs": [
    {
     "data": {
      "text/plain": [
       "Counter({29773: 1,\n",
       "         29831: 2,\n",
       "         29790: 9,\n",
       "         29751: 1,\n",
       "         29740: 3,\n",
       "         29752: 1,\n",
       "         29759: 1,\n",
       "         29880: 1,\n",
       "         29802: 2,\n",
       "         29832: 2,\n",
       "         29745: 1,\n",
       "         29781: 3,\n",
       "         29750: 1,\n",
       "         29763: 1,\n",
       "         29744: 1,\n",
       "         29747: 1,\n",
       "         29826: 1,\n",
       "         29818: 1,\n",
       "         29778: 1,\n",
       "         29780: 2,\n",
       "         29817: 1,\n",
       "         29739: 2,\n",
       "         29753: 1,\n",
       "         29737: 1,\n",
       "         29835: 2,\n",
       "         29833: 2,\n",
       "         29743: 1,\n",
       "         29735: 1,\n",
       "         29823: 1,\n",
       "         29760: 1,\n",
       "         29772: 1,\n",
       "         29766: 1,\n",
       "         29819: 1,\n",
       "         29857: 1,\n",
       "         29734: 1,\n",
       "         29789: 1})"
      ]
     },
     "execution_count": 10,
     "metadata": {},
     "output_type": "execute_result"
    }
   ],
   "source": [
    "lens = Counter(lengths)\n",
    "lens\n"
   ]
  },
  {
   "cell_type": "code",
   "execution_count": null,
   "id": "8be8da42",
   "metadata": {},
   "outputs": [],
   "source": []
  }
 ],
 "metadata": {
  "kernelspec": {
   "display_name": "Python 3",
   "language": "python",
   "name": "python3"
  },
  "language_info": {
   "codemirror_mode": {
    "name": "ipython",
    "version": 3
   },
   "file_extension": ".py",
   "mimetype": "text/x-python",
   "name": "python",
   "nbconvert_exporter": "python",
   "pygments_lexer": "ipython3",
   "version": "3.8.8"
  }
 },
 "nbformat": 4,
 "nbformat_minor": 5
}
