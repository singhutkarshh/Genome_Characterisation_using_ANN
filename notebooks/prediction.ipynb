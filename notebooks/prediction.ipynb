{
 "cells": [
  {
   "cell_type": "markdown",
   "id": "1c558f64",
   "metadata": {},
   "source": [
    "## Sequence collection"
   ]
  },
  {
   "cell_type": "code",
   "execution_count": null,
   "id": "43c2a527",
   "metadata": {},
   "outputs": [],
   "source": [
    "f_path = input(\"Enter path to fasta file: \")\n",
    "seq = \"\"\n",
    "ID = \"\" \n",
    "\n",
    "for seq_record in SeqIO.parse(\"{}\".format(filename), \"fasta\"):\n",
    "    ID, seq = seq_record.id, seq_record.seq\n",
    "    \n",
    "if seq and ID:\n",
    "    print(\"Sequence collected successfully ---> {}...\".format(seq[:10]))\n",
    "else:\n",
    "    print(\"Error while extracting the sequnce\")"
   ]
  },
  {
   "cell_type": "markdown",
   "id": "bd9a2fce",
   "metadata": {},
   "source": [
    "## Preprocessing"
   ]
  },
  {
   "cell_type": "code",
   "execution_count": null,
   "id": "6789e6c1",
   "metadata": {},
   "outputs": [],
   "source": [
    "def fix(seq):\n",
    "    nts = {'A', 'T', 'G', 'C'}\n",
    "    fixed_seq = [nucleotide for nucleotide in seq if nucleotide in nts]\n",
    "    return \"\".join(fixed_seq)\n",
    "df['Sequence'] = df['Sequence'].map(lambda x: fix(x))"
   ]
  },
  {
   "cell_type": "code",
   "execution_count": null,
   "id": "238941c6",
   "metadata": {},
   "outputs": [],
   "source": [
    "def EIIP(sequence):\n",
    "    sequence = list(sequence)\n",
    "    for i in range(len(sequence)):\n",
    "        if sequence[i] == 'G':\n",
    "            sequence[i] = 0.0806\n",
    "        elif sequence[i] == 'A':\n",
    "            sequence[i] = 0.1260\n",
    "        elif sequence[i] == 'T':\n",
    "            sequence[i] = 0.1335\n",
    "        elif sequence[i] == 'C':\n",
    "            sequence[i] = 0.1340\n",
    "    return sequence"
   ]
  },
  {
   "cell_type": "code",
   "execution_count": null,
   "id": "ad6da714",
   "metadata": {},
   "outputs": [],
   "source": [
    "def convertMappingToSTFT(array, label):\n",
    "    f, t, zxx = stft(array)\n",
    "\n",
    "    # flatten the array\n",
    "    flat = zxx.flatten()\n",
    "    real = [ele.real for ele in flat]\n",
    "    imag = [ele.imag for ele in flat]\n",
    "\n",
    "    # calculate features\n",
    "    # 1. sum\n",
    "    # 2. mean\n",
    "    # 3. variance\n",
    "    # 4. standard deviation\n",
    "    # 5. skewness\n",
    "    # 6. kurtosis\n",
    "    data = [np.sum(real), np.sum(imag), np.mean(real), np.mean(imag), np.std(real), np.std(imag), np.var(real),\n",
    "            np.var(imag), skew(real), skew(imag), kurtosis(real), kurtosis(imag), label]\n",
    "    return data"
   ]
  },
  {
   "cell_type": "code",
   "execution_count": null,
   "id": "e670fc85",
   "metadata": {},
   "outputs": [],
   "source": [
    "def pipeline(seq):\n",
    "    return convertMappingToSTFT(EIIP(fix(seq)))"
   ]
  },
  {
   "cell_type": "code",
   "execution_count": null,
   "id": "af7af6e3",
   "metadata": {},
   "outputs": [],
   "source": [
    "features = pipline(seq)"
   ]
  },
  {
   "cell_type": "markdown",
   "id": "0632c589",
   "metadata": {},
   "source": [
    "## Prediction"
   ]
  },
  {
   "cell_type": "code",
   "execution_count": null,
   "id": "99848241",
   "metadata": {},
   "outputs": [],
   "source": [
    "import pickle"
   ]
  },
  {
   "cell_type": "code",
   "execution_count": 1,
   "id": "33e7d8a1",
   "metadata": {},
   "outputs": [
    {
     "ename": "NameError",
     "evalue": "name 'pickle' is not defined",
     "output_type": "error",
     "traceback": [
      "\u001b[0;31m---------------------------------------------------------------------------\u001b[0m",
      "\u001b[0;31mNameError\u001b[0m                                 Traceback (most recent call last)",
      "\u001b[0;32m<ipython-input-1-2c37ab104a88>\u001b[0m in \u001b[0;36m<module>\u001b[0;34m\u001b[0m\n\u001b[1;32m      1\u001b[0m \u001b[0;31m# loading the model\u001b[0m\u001b[0;34m\u001b[0m\u001b[0;34m\u001b[0m\u001b[0;34m\u001b[0m\u001b[0m\n\u001b[0;32m----> 2\u001b[0;31m \u001b[0mmodel\u001b[0m \u001b[0;34m=\u001b[0m \u001b[0mpickle\u001b[0m\u001b[0;34m.\u001b[0m\u001b[0mload\u001b[0m\u001b[0;34m(\u001b[0m\u001b[0;34m'final_model.sav'\u001b[0m\u001b[0;34m)\u001b[0m\u001b[0;34m\u001b[0m\u001b[0;34m\u001b[0m\u001b[0m\n\u001b[0m\u001b[1;32m      3\u001b[0m \u001b[0;34m\u001b[0m\u001b[0m\n\u001b[1;32m      4\u001b[0m \u001b[0;31m# making the prediction\u001b[0m\u001b[0;34m\u001b[0m\u001b[0;34m\u001b[0m\u001b[0;34m\u001b[0m\u001b[0m\n\u001b[1;32m      5\u001b[0m \u001b[0mprediction\u001b[0m \u001b[0;34m=\u001b[0m \u001b[0mmodel\u001b[0m\u001b[0;34m.\u001b[0m\u001b[0mpredict\u001b[0m\u001b[0;34m(\u001b[0m\u001b[0mfeatures\u001b[0m\u001b[0;34m)\u001b[0m\u001b[0;34m\u001b[0m\u001b[0;34m\u001b[0m\u001b[0m\n",
      "\u001b[0;31mNameError\u001b[0m: name 'pickle' is not defined"
     ]
    }
   ],
   "source": [
    "# loading the model\n",
    "model = pickle.load('final_model.sav')\n",
    "\n",
    "# making the prediction\n",
    "prediction = model.predict(features)"
   ]
  },
  {
   "cell_type": "code",
   "execution_count": null,
   "id": "bfe32b19",
   "metadata": {},
   "outputs": [],
   "source": [
    "def prob_to_res(prob):\n",
    "    if prob > 0.5: return 1\n",
    "    else: return 0"
   ]
  },
  {
   "cell_type": "code",
   "execution_count": null,
   "id": "a09ec47c",
   "metadata": {},
   "outputs": [],
   "source": [
    "label = prob_to_res(prediction)\n",
    "if label:\n",
    "    print('SARS-CoV-2 genome ---> Probabilty : {}'.format(prediction*100))\n",
    "else:\n",
    "    print('Not a SARS-CoV-2 genome ---> Probability : {}'.format(prediction*100))"
   ]
  }
 ],
 "metadata": {
  "kernelspec": {
   "display_name": "Python 3",
   "language": "python",
   "name": "python3"
  },
  "language_info": {
   "codemirror_mode": {
    "name": "ipython",
    "version": 3
   },
   "file_extension": ".py",
   "mimetype": "text/x-python",
   "name": "python",
   "nbconvert_exporter": "python",
   "pygments_lexer": "ipython3",
   "version": "3.8.8"
  }
 },
 "nbformat": 4,
 "nbformat_minor": 5
}
