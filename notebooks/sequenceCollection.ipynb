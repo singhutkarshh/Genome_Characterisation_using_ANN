{
 "cells": [
  {
   "cell_type": "code",
   "execution_count": 1,
   "id": "33130494",
   "metadata": {},
   "outputs": [],
   "source": [
    "import os\n",
    "from Bio import SeqIO\n",
    "import pandas as pd"
   ]
  },
  {
   "cell_type": "code",
   "execution_count": 2,
   "id": "e71e66da",
   "metadata": {},
   "outputs": [],
   "source": [
    "df = pd.DataFrame(columns=['ID', 'Sequence', 'label'])"
   ]
  },
  {
   "cell_type": "code",
   "execution_count": 5,
   "id": "c825db83",
   "metadata": {},
   "outputs": [
    {
     "data": {
      "text/html": [
       "<div>\n",
       "<style scoped>\n",
       "    .dataframe tbody tr th:only-of-type {\n",
       "        vertical-align: middle;\n",
       "    }\n",
       "\n",
       "    .dataframe tbody tr th {\n",
       "        vertical-align: top;\n",
       "    }\n",
       "\n",
       "    .dataframe thead th {\n",
       "        text-align: right;\n",
       "    }\n",
       "</style>\n",
       "<table border=\"1\" class=\"dataframe\">\n",
       "  <thead>\n",
       "    <tr style=\"text-align: right;\">\n",
       "      <th></th>\n",
       "      <th>ID</th>\n",
       "      <th>Sequence</th>\n",
       "      <th>label</th>\n",
       "    </tr>\n",
       "  </thead>\n",
       "  <tbody>\n",
       "    <tr>\n",
       "      <th>0</th>\n",
       "      <td>ON052760.1</td>\n",
       "      <td>(T, T, A, T, A, C, C, T, T, C, C, C, A, G, G, ...</td>\n",
       "      <td>1</td>\n",
       "    </tr>\n",
       "    <tr>\n",
       "      <th>1</th>\n",
       "      <td>OM915404.1</td>\n",
       "      <td>(A, C, C, A, A, C, C, A, A, C, T, T, T, C, G, ...</td>\n",
       "      <td>1</td>\n",
       "    </tr>\n",
       "    <tr>\n",
       "      <th>2</th>\n",
       "      <td>OM900023.1</td>\n",
       "      <td>(T, T, G, T, A, G, A, T, C, T, G, T, T, C, T, ...</td>\n",
       "      <td>1</td>\n",
       "    </tr>\n",
       "    <tr>\n",
       "      <th>3</th>\n",
       "      <td>ON052762.1</td>\n",
       "      <td>(T, T, T, C, G, A, T, C, T, C, T, T, G, T, A, ...</td>\n",
       "      <td>1</td>\n",
       "    </tr>\n",
       "    <tr>\n",
       "      <th>4</th>\n",
       "      <td>ON063242.1</td>\n",
       "      <td>(T, T, T, C, G, A, T, C, T, C, T, T, G, T, A, ...</td>\n",
       "      <td>1</td>\n",
       "    </tr>\n",
       "    <tr>\n",
       "      <th>...</th>\n",
       "      <td>...</td>\n",
       "      <td>...</td>\n",
       "      <td>...</td>\n",
       "    </tr>\n",
       "    <tr>\n",
       "      <th>70</th>\n",
       "      <td>NC_002209.1</td>\n",
       "      <td>(A, G, C, A, G, A, A, G, C, A, G, A, G, C, A, ...</td>\n",
       "      <td>0</td>\n",
       "    </tr>\n",
       "    <tr>\n",
       "      <th>71</th>\n",
       "      <td>NC_002210.1</td>\n",
       "      <td>(A, G, C, A, G, A, A, G, C, A, C, G, C, A, C, ...</td>\n",
       "      <td>0</td>\n",
       "    </tr>\n",
       "    <tr>\n",
       "      <th>72</th>\n",
       "      <td>NC_002211.1</td>\n",
       "      <td>(C, G, C, A, G, A, A, G, C, A, G, A, G, G, A, ...</td>\n",
       "      <td>0</td>\n",
       "    </tr>\n",
       "    <tr>\n",
       "      <th>73</th>\n",
       "      <td>NC_001474.2</td>\n",
       "      <td>(A, G, T, T, G, T, T, A, G, T, C, T, A, C, G, ...</td>\n",
       "      <td>0</td>\n",
       "    </tr>\n",
       "    <tr>\n",
       "      <th>74</th>\n",
       "      <td>NC_003310.1</td>\n",
       "      <td>(G, T, T, A, G, T, A, A, A, T, T, A, T, A, T, ...</td>\n",
       "      <td>0</td>\n",
       "    </tr>\n",
       "  </tbody>\n",
       "</table>\n",
       "<p>75 rows × 3 columns</p>\n",
       "</div>"
      ],
      "text/plain": [
       "             ID                                           Sequence label\n",
       "0    ON052760.1  (T, T, A, T, A, C, C, T, T, C, C, C, A, G, G, ...     1\n",
       "1    OM915404.1  (A, C, C, A, A, C, C, A, A, C, T, T, T, C, G, ...     1\n",
       "2    OM900023.1  (T, T, G, T, A, G, A, T, C, T, G, T, T, C, T, ...     1\n",
       "3    ON052762.1  (T, T, T, C, G, A, T, C, T, C, T, T, G, T, A, ...     1\n",
       "4    ON063242.1  (T, T, T, C, G, A, T, C, T, C, T, T, G, T, A, ...     1\n",
       "..          ...                                                ...   ...\n",
       "70  NC_002209.1  (A, G, C, A, G, A, A, G, C, A, G, A, G, C, A, ...     0\n",
       "71  NC_002210.1  (A, G, C, A, G, A, A, G, C, A, C, G, C, A, C, ...     0\n",
       "72  NC_002211.1  (C, G, C, A, G, A, A, G, C, A, G, A, G, G, A, ...     0\n",
       "73  NC_001474.2  (A, G, T, T, G, T, T, A, G, T, C, T, A, C, G, ...     0\n",
       "74  NC_003310.1  (G, T, T, A, G, T, A, A, A, T, T, A, T, A, T, ...     0\n",
       "\n",
       "[75 rows x 3 columns]"
      ]
     },
     "execution_count": 5,
     "metadata": {},
     "output_type": "execute_result"
    }
   ],
   "source": [
    "for filename in os.listdir(os.getcwd()+'/non_cov_data'):\n",
    "    sub = os.getcwd() + '/non_cov_data'\n",
    "    try:\n",
    "        for seq_record in SeqIO.parse(\"{}/{}\".format(sub, filename), \"fasta\"):\n",
    "            df.loc[len(df.index)] = [seq_record.id, seq_record.seq, 0]\n",
    "    except:\n",
    "        continue\n",
    "df"
   ]
  },
  {
   "cell_type": "code",
   "execution_count": 6,
   "id": "3678a338",
   "metadata": {},
   "outputs": [],
   "source": [
    "df.to_csv('data.csv')"
   ]
  },
  {
   "cell_type": "code",
   "execution_count": null,
   "id": "d0412201",
   "metadata": {},
   "outputs": [],
   "source": []
  }
 ],
 "metadata": {
  "kernelspec": {
   "display_name": "Python 3",
   "language": "python",
   "name": "python3"
  },
  "language_info": {
   "codemirror_mode": {
    "name": "ipython",
    "version": 3
   },
   "file_extension": ".py",
   "mimetype": "text/x-python",
   "name": "python",
   "nbconvert_exporter": "python",
   "pygments_lexer": "ipython3",
   "version": "3.8.8"
  },
  "vscode": {
   "interpreter": {
    "hash": "4cf20432714c5f78555ec81a661bede9202fd049a3781014f9ed01445d1ef3a8"
   }
  }
 },
 "nbformat": 4,
 "nbformat_minor": 5
}
